{
 "cells": [
  {
   "cell_type": "code",
   "execution_count": null,
   "id": "27c63185-eef6-4b04-b237-fa3beb20a5bb",
   "metadata": {
    "tags": []
   },
   "outputs": [],
   "source": [
    "import numpy as np\n",
    "import pandas as pd\n",
    "import matplotlib.pyplot as plt\n",
    "import plotly.express as px\n",
    "import cupy as cp\n",
    "EPSILON=1e-8"
   ]
  },
  {
   "cell_type": "code",
   "execution_count": null,
   "id": "e197fc58-f674-436f-8bce-6ddb95af39ca",
   "metadata": {
    "tags": []
   },
   "outputs": [],
   "source": [
    "def plot_random_sample_and_recovery(random_sample,recovered_random_sample):\n",
    "    # Generate indices for plotting\n",
    "    indices = np.arange(random_sample.shape[0])\n",
    "    frequencies = np.fft.fftfreq(random_sample.shape[-1])\n",
    "\n",
    "    # Create a dataframe for the original and recovered random samples for easy plotting with Plotly\n",
    "    df_samples = pd.DataFrame({\n",
    "        'Index': np.concatenate([indices, indices]),\n",
    "        'Value': np.concatenate([random_sample, recovered_random_sample.real]),\n",
    "        'Sample Type': ['Original' for _ in range(len(random_sample))] + ['Recovered' for _ in range(len(recovered_random_sample))]\n",
    "    })\n",
    "\n",
    "    # Plot original and recovered random sample using Plotly Express\n",
    "    fig_samples = px.line(df_samples, x='Index', y='Value', color='Sample Type', title='Original vs. Recovered Random Sample')\n",
    "    return fig_samples"
   ]
  },
  {
   "cell_type": "code",
   "execution_count": null,
   "id": "c43dccd1-4a6c-4b9c-8520-ebdb9717fb09",
   "metadata": {
    "tags": []
   },
   "outputs": [],
   "source": [
    "def plot_frequencies(random_sample,fft_result_random):\n",
    "    # Create a dataframe for the FFT magnitude plot for easy plotting with Plotly\n",
    "    frequencies=np.fft.fftfreq(random_sample.shape[-1])\n",
    "    df_fft = pd.DataFrame({\n",
    "        'Frequency': frequencies,\n",
    "        'Magnitude': np.abs(fft_result_random)\n",
    "    })\n",
    "\n",
    "    # Plot FFT magnitude of random sample using Plotly Express\n",
    "    fig_fft = px.line(df_fft, x='Frequency', y='Magnitude', title='FFT Magnitude of Random Sample')\n",
    "    return fig_fft"
   ]
  },
  {
   "cell_type": "code",
   "execution_count": null,
   "id": "78b4fc81-2fb2-4d15-8d3c-c943f6c75e61",
   "metadata": {
    "tags": []
   },
   "outputs": [],
   "source": [
    "# Generate a random sample\n",
    "np.random.seed(42)  # For reproducibility\n",
    "sample_size=1024\n",
    "random_sample = np.random.randn(sample_size)  # Generate 1024 random numbers from a normal distribution"
   ]
  },
  {
   "cell_type": "code",
   "execution_count": null,
   "id": "97a43067-36aa-4451-b253-c5fb0f0f1019",
   "metadata": {
    "tags": []
   },
   "outputs": [],
   "source": [
    "# Perform FFT on the random sample\n",
    "fft_result_random = np.fft.fft(random_sample)\n",
    "# Perform IFFT to recover the original random sample\n",
    "recovered_random_sample = np.fft.ifft(fft_result_random)"
   ]
  },
  {
   "cell_type": "code",
   "execution_count": null,
   "id": "38358217-84e6-49b6-96cc-5ba2f5792d78",
   "metadata": {
    "tags": []
   },
   "outputs": [],
   "source": [
    "plot_random_sample_and_recovery(random_sample,recovered_random_sample)"
   ]
  },
  {
   "cell_type": "code",
   "execution_count": null,
   "id": "6c85853b-c0d4-485e-a4f8-14dda0038ef5",
   "metadata": {
    "tags": []
   },
   "outputs": [],
   "source": [
    "plot_frequencies(random_sample,fft_result_random)"
   ]
  },
  {
   "cell_type": "code",
   "execution_count": null,
   "id": "805b887f-395f-4779-8ffe-9c75d0e87527",
   "metadata": {
    "tags": []
   },
   "outputs": [],
   "source": [
    "#* Implementations emphasizing readability over performance-- for performance use np.ftt on CPU or cp.ftt on GPU. We check that our functions' outputs agree with the high performance ones.\n",
    "\n",
    "def my_fft(x):\n",
    "    \"\"\"\n",
    "    Compute the Discrete Fourier Transform (DFT) of the 1D array x.\n",
    "    \"\"\"\n",
    "    N = len(x)\n",
    "    n = np.arange(N)\n",
    "    k = n.reshape((N, 1))\n",
    "    e = np.exp(-2j * np.pi * k * n / N)\n",
    "    return np.dot(e, x)\n",
    "\n",
    "def my_ifft(X):\n",
    "    \"\"\"\n",
    "    Compute the Inverse Discrete Fourier Transform (IDFT) of the 1D array X.\n",
    "    \"\"\"\n",
    "    N = len(X)\n",
    "    n = np.arange(N)\n",
    "    k = n.reshape((N, 1))\n",
    "    e = np.exp(2j * np.pi * k * n / N)\n",
    "    return np.dot(e, X) / N\n",
    "\n",
    "def fftfreq(N, d=1.0):\n",
    "    \"\"\"\n",
    "    Generate the array of frequencies for an FFT output of size N.\n",
    "    \n",
    "    Parameters:\n",
    "    - N (int): The window length, or number of points in the FFT.\n",
    "    - d (float): The sample spacing (inverse of the sampling rate).\n",
    "    \n",
    "    Returns:\n",
    "    - f (ndarray): An array of frequency bins.\n",
    "    \"\"\"\n",
    "    val = 1.0 / (N * d)\n",
    "    results = np.empty(N, dtype=int)\n",
    "    N_half = N // 2\n",
    "    results[:N_half] = np.arange(0, N_half)\n",
    "    results[N_half:] = np.arange(-N_half, 0, dtype=int)\n",
    "    return results * val"
   ]
  },
  {
   "cell_type": "code",
   "execution_count": null,
   "id": "feddcf0c-ebc2-4d39-ae28-ab7f13f04ac9",
   "metadata": {
    "tags": []
   },
   "outputs": [],
   "source": [
    "# verify this fftfreq function matches numpy/cupy \n",
    "assert np.abs(fftfreq(sample_size)-np.fft.fftfreq(random_sample.shape[-1])).max()<EPSILON"
   ]
  },
  {
   "cell_type": "code",
   "execution_count": null,
   "id": "a551ecf4-8fed-42f9-af65-5f46bac0bdbf",
   "metadata": {
    "tags": []
   },
   "outputs": [],
   "source": [
    "my_fft_result_random = my_fft(random_sample)\n",
    "\n",
    "# Perform IFFT to recover the original random sample\n",
    "my_recovered_random_sample = np.array(my_ifft(fft_result_random))"
   ]
  },
  {
   "cell_type": "code",
   "execution_count": null,
   "id": "a4f22a74-b3e7-48e3-810d-18130e5a8b2a",
   "metadata": {
    "tags": []
   },
   "outputs": [],
   "source": [
    "plot_random_sample_and_recovery(random_sample,my_recovered_random_sample)"
   ]
  },
  {
   "cell_type": "code",
   "execution_count": null,
   "id": "999c79bb-3da3-47b8-b0b7-fdca649d531e",
   "metadata": {
    "tags": []
   },
   "outputs": [],
   "source": [
    "plot_frequencies(random_sample,my_fft_result_random)"
   ]
  },
  {
   "cell_type": "code",
   "execution_count": null,
   "id": "f9e7677d-41c2-4dd7-91a0-7bc5d79241e3",
   "metadata": {
    "tags": []
   },
   "outputs": [],
   "source": [
    "dft_result_random = my_fft(random_sample)\n",
    "\n",
    "# Perform IFFT to recover the original random sample\n",
    "dft_recovered_random_sample = np.array(my_ifft(fft_result_random))"
   ]
  },
  {
   "cell_type": "code",
   "execution_count": null,
   "id": "b8a93ef3-f90a-4a21-a333-7eadf55e136c",
   "metadata": {
    "tags": []
   },
   "outputs": [],
   "source": [
    "plot_random_sample_and_recovery(random_sample,dft_recovered_random_sample)"
   ]
  },
  {
   "cell_type": "markdown",
   "id": "613fdf57-730c-41b4-a25c-6d0b6621d4de",
   "metadata": {},
   "source": [
    "# Part Two"
   ]
  },
  {
   "cell_type": "code",
   "execution_count": null,
   "id": "9a712b39-1b27-4b97-bec5-0cae36314ef5",
   "metadata": {
    "tags": []
   },
   "outputs": [],
   "source": [
    "inner_sims=2048\n",
    "outer_sims=100000"
   ]
  },
  {
   "cell_type": "code",
   "execution_count": null,
   "id": "a940e267-d801-405c-b6d5-132c109c94f4",
   "metadata": {
    "tags": []
   },
   "outputs": [],
   "source": [
    "%%time\n",
    "cp.random.seed(42)\n",
    "rands=cp.random.randn(inner_sims,outer_sims)"
   ]
  },
  {
   "cell_type": "code",
   "execution_count": null,
   "id": "90f60a85-707e-44fc-b2e0-3187508cdb24",
   "metadata": {
    "tags": []
   },
   "outputs": [],
   "source": [
    "%%time\n",
    "column_sums=rands.sum(axis=0)\n",
    "column_sums.shape"
   ]
  },
  {
   "cell_type": "code",
   "execution_count": null,
   "id": "ca3801b1-14ac-4f4b-8d67-ab00edc5c7d5",
   "metadata": {
    "tags": []
   },
   "outputs": [],
   "source": [
    "%%time\n",
    "fft=cp.fft.fft(rands,axis=0)\n",
    "fft.shape"
   ]
  },
  {
   "cell_type": "code",
   "execution_count": null,
   "id": "9e6242d8-04a1-4f94-b915-ee97c2f336af",
   "metadata": {
    "tags": []
   },
   "outputs": [],
   "source": [
    "%%time\n",
    "# first frequency always corresponds with sum of all values\n",
    "assert np.abs(column_sums-fft[0]).max()<EPSILON"
   ]
  },
  {
   "cell_type": "code",
   "execution_count": null,
   "id": "04b2e3cf-5580-411b-bcf7-6ae6b8570f75",
   "metadata": {
    "tags": []
   },
   "outputs": [],
   "source": [
    "mean_frequency_domain=fft.mean(axis=1)\n",
    "mean_frequency_domain.shape"
   ]
  },
  {
   "cell_type": "code",
   "execution_count": null,
   "id": "9fac4fe8-5813-47ee-bf2d-03abc41d8c4a",
   "metadata": {
    "tags": []
   },
   "outputs": [],
   "source": [
    "%%time\n",
    "# the mean of lowest frequency is the mean of column sums\n",
    "assert np.abs(mean_frequency_domain[0]-column_sums.mean())<EPSILON"
   ]
  },
  {
   "cell_type": "code",
   "execution_count": null,
   "id": "961526f7-9920-4437-af12-14b3d3744551",
   "metadata": {
    "tags": []
   },
   "outputs": [],
   "source": [
    "column_sums.mean()/inner_sims"
   ]
  },
  {
   "cell_type": "code",
   "execution_count": null,
   "id": "5ec6beee-4b86-4ad4-9786-b7661be72c9d",
   "metadata": {
    "tags": []
   },
   "outputs": [],
   "source": [
    "%%time\n",
    "ifft_mean_fft=cp.fft.ifft(mean_frequency_domain)"
   ]
  },
  {
   "cell_type": "code",
   "execution_count": null,
   "id": "207d5b70-c31b-4dca-ba54-fd5907923f3e",
   "metadata": {
    "tags": []
   },
   "outputs": [],
   "source": [
    "%%time\n",
    "# the ifft of the mean of the fft is the mean of the original random matrix\n",
    "assert np.abs(ifft_mean_fft-rands.mean(axis=1)).max()<EPSILON"
   ]
  },
  {
   "cell_type": "code",
   "execution_count": null,
   "id": "53a6abbf-709e-4527-8ed1-a6f4a927432f",
   "metadata": {
    "tags": []
   },
   "outputs": [],
   "source": [
    "fig=px.scatter(ifft_mean_fft.real.get(),opacity=0.3)\n",
    "fig.update_traces(marker=dict(size=10))\n",
    "fig"
   ]
  },
  {
   "cell_type": "code",
   "execution_count": null,
   "id": "ca201360-180d-4aa1-85a7-cfdf9e567a08",
   "metadata": {
    "tags": []
   },
   "outputs": [],
   "source": [
    "px.histogram(ifft_mean_fft.real.get(),nbins=50)"
   ]
  },
  {
   "cell_type": "code",
   "execution_count": null,
   "id": "b3b928c0-1a38-43d2-8b58-05777308089e",
   "metadata": {
    "tags": []
   },
   "outputs": [],
   "source": [
    "fig=px.violin(ifft_mean_fft.real.get(),points='all',box=True)\n",
    "fig.update_traces(marker=dict(size=10,opacity=0.1))\n",
    "fig"
   ]
  }
 ],
 "metadata": {
  "kernelspec": {
   "display_name": "Python 3 (ipykernel)",
   "language": "python",
   "name": "python3"
  },
  "language_info": {
   "codemirror_mode": {
    "name": "ipython",
    "version": 3
   },
   "file_extension": ".py",
   "mimetype": "text/x-python",
   "name": "python",
   "nbconvert_exporter": "python",
   "pygments_lexer": "ipython3",
   "version": "3.10.12"
  }
 },
 "nbformat": 4,
 "nbformat_minor": 5
}
