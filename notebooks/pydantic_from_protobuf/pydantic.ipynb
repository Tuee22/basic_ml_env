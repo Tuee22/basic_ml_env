{
 "cells": [
  {
   "cell_type": "code",
   "execution_count": 1,
   "id": "c9809fc8-52dd-43f5-b0f8-566e4f0aad91",
   "metadata": {
    "tags": []
   },
   "outputs": [
    {
     "name": "stdout",
     "output_type": "stream",
     "text": [
      "syntax = \"proto3\";\n",
      "\n",
      "message MyProtoMessage {\n",
      "  string field1 = 1;\n",
      "  int32 field2 = 2;\n",
      "  // Add more fields as needed\n",
      "}"
     ]
    }
   ],
   "source": [
    "# let's see the proto schema file\n",
    "!cat my_proto.proto"
   ]
  },
  {
   "cell_type": "code",
   "execution_count": 2,
   "id": "24bf7844-5fc1-40e4-8339-d3e5ff412fd8",
   "metadata": {
    "tags": []
   },
   "outputs": [
    {
     "name": "stdout",
     "output_type": "stream",
     "text": [
      "Requirement already satisfied: grpcio-tools in /usr/local/lib/python3.10/dist-packages (1.62.1)\n",
      "Requirement already satisfied: protobuf<5.0dev,>=4.21.6 in /usr/local/lib/python3.10/dist-packages (from grpcio-tools) (4.25.3)\n",
      "Requirement already satisfied: grpcio>=1.62.1 in /usr/local/lib/python3.10/dist-packages (from grpcio-tools) (1.62.1)\n",
      "Requirement already satisfied: setuptools in /usr/local/lib/python3.10/dist-packages (from grpcio-tools) (69.2.0)\n",
      "\u001b[33mWARNING: Running pip as the 'root' user can result in broken permissions and conflicting behaviour with the system package manager. It is recommended to use a virtual environment instead: https://pip.pypa.io/warnings/venv\u001b[0m\u001b[33m\n",
      "\u001b[0mlibprotoc 25.1\n"
     ]
    }
   ],
   "source": [
    "# build the python module from the .proto file\n",
    "# (nb: this requires using the protoc cli tool to generate a .py file)\n",
    "!python3 -m pip install grpcio-tools\n",
    "!python3 -m grpc_tools.protoc --version\n",
    "!python3 -m grpc_tools.protoc -I=. --python_out=. my_proto.proto"
   ]
  },
  {
   "cell_type": "code",
   "execution_count": 3,
   "id": "5e79ffe4-ee24-4932-982c-dc0f1a7fea62",
   "metadata": {
    "tags": []
   },
   "outputs": [],
   "source": [
    "# import the built module\n",
    "from my_proto_pb2 import MyProtoMessage"
   ]
  },
  {
   "cell_type": "code",
   "execution_count": 4,
   "id": "b63acfdb-5dd1-4b7f-b69b-39ba60bff85d",
   "metadata": {
    "tags": []
   },
   "outputs": [],
   "source": [
    "# Example protobuf message instance\n",
    "protobuf_message = MyProtoMessage(\n",
    "    field1=\"value1\",\n",
    "    field2=123,\n",
    "    # Add more fields as needed\n",
    ")"
   ]
  },
  {
   "cell_type": "code",
   "execution_count": 5,
   "id": "a273b4db-1a55-46f2-95f6-a04691e86f42",
   "metadata": {
    "tags": []
   },
   "outputs": [],
   "source": [
    "from google.protobuf.json_format import MessageToJson, MessageToDict"
   ]
  },
  {
   "cell_type": "code",
   "execution_count": 6,
   "id": "5d41e957-270d-41d9-ae58-ad5d6c7b96d6",
   "metadata": {
    "tags": []
   },
   "outputs": [],
   "source": [
    "from pydantic import BaseModel, ValidationError"
   ]
  },
  {
   "cell_type": "code",
   "execution_count": 7,
   "id": "78567c64-c414-4f03-abe3-edb64fced95a",
   "metadata": {
    "tags": []
   },
   "outputs": [],
   "source": [
    "# Define Pydantic model\n",
    "class MyModel(BaseModel):\n",
    "    class Config:\n",
    "        strict = True\n",
    "    field1: str\n",
    "    field2: int"
   ]
  },
  {
   "cell_type": "markdown",
   "id": "04c276fc-114d-4e0f-a498-1520a98cf237",
   "metadata": {
    "tags": []
   },
   "source": [
    "### Method 1: convert through JSON"
   ]
  },
  {
   "cell_type": "code",
   "execution_count": 8,
   "id": "19fa2cea-dff2-4879-8f98-3280ae9b7037",
   "metadata": {
    "tags": []
   },
   "outputs": [],
   "source": [
    "# Convert protobuf message to json\n",
    "protobuf_json = MessageToJson(protobuf_message)"
   ]
  },
  {
   "cell_type": "code",
   "execution_count": 9,
   "id": "afe6d91c-9b8b-4144-9268-54895c246f8f",
   "metadata": {
    "tags": []
   },
   "outputs": [
    {
     "name": "stdout",
     "output_type": "stream",
     "text": [
      "{\n",
      "  \"field1\": \"value1\",\n",
      "  \"field2\": 123\n",
      "}\n"
     ]
    }
   ],
   "source": [
    "print(protobuf_json)"
   ]
  },
  {
   "cell_type": "code",
   "execution_count": 10,
   "id": "6ba6c3b9-ebe7-41f9-8cfc-445501b14e20",
   "metadata": {
    "tags": []
   },
   "outputs": [
    {
     "name": "stdout",
     "output_type": "stream",
     "text": [
      "Data is valid: field1='value1' field2=123\n"
     ]
    }
   ],
   "source": [
    "try:\n",
    "    # Validate incoming data\n",
    "    json_validated_data = MyModel.parse_raw(protobuf_json)\n",
    "    print(\"Data is valid:\", json_validated_data)\n",
    "except ValidationError as e:\n",
    "    print(\"Validation error:\", e)\n",
    "    # Handle validation error based on your application's logic"
   ]
  },
  {
   "cell_type": "markdown",
   "id": "e82b3b69-728c-419a-8034-942bdd4d2190",
   "metadata": {
    "tags": []
   },
   "source": [
    "### Method 2: convert through python dict"
   ]
  },
  {
   "cell_type": "code",
   "execution_count": 11,
   "id": "7ee3362b-e911-4401-a67e-3795f4696002",
   "metadata": {
    "tags": []
   },
   "outputs": [],
   "source": [
    "# Convert protobuf message to json\n",
    "protobuf_dict = MessageToDict(protobuf_message)"
   ]
  },
  {
   "cell_type": "code",
   "execution_count": 12,
   "id": "678e9092-5c33-437b-8773-076c7ee3d013",
   "metadata": {
    "tags": []
   },
   "outputs": [
    {
     "name": "stdout",
     "output_type": "stream",
     "text": [
      "<class 'dict'>\n",
      "{'field1': 'value1', 'field2': 123}\n"
     ]
    }
   ],
   "source": [
    "print(type(protobuf_dict))\n",
    "print(protobuf_dict)"
   ]
  },
  {
   "cell_type": "code",
   "execution_count": 13,
   "id": "13a96b66-a834-47de-81ef-de20d24fade4",
   "metadata": {
    "tags": []
   },
   "outputs": [
    {
     "name": "stdout",
     "output_type": "stream",
     "text": [
      "Data is valid: field1='value1' field2=123\n",
      "Data 2 is valid: field1='value1' field2=123\n"
     ]
    }
   ],
   "source": [
    "try:\n",
    "    # Validate incoming data\n",
    "    dict_validated_data = MyModel(**protobuf_dict)\n",
    "    print(\"Data is valid:\", dict_validated_data)\n",
    "    dict_validated_data_2 = MyModel.parse_obj(protobuf_dict) # this way may be preferred, but first way could be more performant\n",
    "    print(\"Data 2 is valid:\",dict_validated_data_2)\n",
    "except ValidationError as e:\n",
    "    print(\"Validation error:\", e)\n",
    "    # Handle validation error based on your application's logic"
   ]
  }
 ],
 "metadata": {
  "kernelspec": {
   "display_name": "Python 3 (ipykernel)",
   "language": "python",
   "name": "python3"
  },
  "language_info": {
   "codemirror_mode": {
    "name": "ipython",
    "version": 3
   },
   "file_extension": ".py",
   "mimetype": "text/x-python",
   "name": "python",
   "nbconvert_exporter": "python",
   "pygments_lexer": "ipython3",
   "version": "3.10.12"
  }
 },
 "nbformat": 4,
 "nbformat_minor": 5
}
